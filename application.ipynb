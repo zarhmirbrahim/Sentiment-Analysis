{
 "cells": [
  {
   "cell_type": "code",
   "execution_count": 5,
   "id": "da8a9577-8dce-4923-a593-92cb1cfaae19",
   "metadata": {},
   "outputs": [
    {
     "name": "stdout",
     "output_type": "stream",
     "text": [
      "Version de TensorFlow : 2.15.0\n",
      "Version de Keras : 2.15.0\n"
     ]
    }
   ],
   "source": [
    "import tensorflow as tf\n",
    "print(\"Version de TensorFlow :\", tf.__version__)\n",
    "\n",
    "import keras\n",
    "print(\"Version de Keras :\", keras.__version__)\n"
   ]
  },
  {
   "cell_type": "code",
   "execution_count": 1,
   "id": "2dc0a626-4a17-4d9d-85eb-b26ec78faf52",
   "metadata": {},
   "outputs": [
    {
     "name": "stdout",
     "output_type": "stream",
     "text": [
      "WARNING:tensorflow:From C:\\Users\\brahim\\anaconda3\\Lib\\site-packages\\keras\\src\\losses.py:2976: The name tf.losses.sparse_softmax_cross_entropy is deprecated. Please use tf.compat.v1.losses.sparse_softmax_cross_entropy instead.\n",
      "\n"
     ]
    }
   ],
   "source": [
    "import tkinter as tk\n",
    "from tkinter import filedialog\n",
    "import threading\n",
    "from keras.models import load_model\n",
    "from PIL import Image\n",
    "from PIL import ImageTk\n",
    "import pickle\n",
    "import tkinter as tk\n",
    "from tkinter import filedialog\n",
    "import threading\n",
    "import os\n",
    "# utilisée pour les calculs mathématiques en Python, spécialement pour les tableaux à plusieurs dimensions.\n",
    "import numpy as np\n",
    "#  convertir des données textuelles en séquences numériques qui peuvent être utilisées comme entrées pour les réseaux de neurones.\n",
    "from keras.preprocessing.text import Tokenizer\n",
    "# permet d'assurer que toutes les séquences de données ont la même longueur et peuvent donc être utilisées comme entrées pour le modèle,ajoutant des zéros à la fin des séquences plus courtes pour s'assurer que toutes les entrées ont la même longueur \n",
    "from tensorflow.keras.preprocessing.sequence import pad_sequences\n",
    "# Sequential est une classe de Keras qui permet de définir et créer des modèles de réseaux de neurones séquentiels en permettant d'ajouter les couches du modèle les unes après les autres de manière simple et conviviale\n",
    "from keras.models import Sequential\n",
    "# import des couches Embedding[vecteur de densite latente], GRU et Dense(effectuer les calculs de regression) pour le modèle RNN\n",
    "from keras.layers import Embedding, GRU, Dense \n",
    "# stocker et manipuler des données tabulaires, telles que des tableaux de données enregistrés dans des fichiers CSV\n",
    "import pandas as pd\n",
    "import keras\n",
    "import pickle \n",
    "import matplotlib.pyplot as plt\n",
    "import numpy as np\n",
    "from PIL import Image\n",
    "from keras.models import load_model"
   ]
  },
  {
   "cell_type": "code",
   "execution_count": 2,
   "id": "53e762f8-b18d-48c6-bc5b-b0e2f47af059",
   "metadata": {},
   "outputs": [
    {
     "name": "stdout",
     "output_type": "stream",
     "text": [
      "WARNING:tensorflow:From C:\\Users\\brahim\\anaconda3\\Lib\\site-packages\\keras\\src\\backend.py:1398: The name tf.executing_eagerly_outside_functions is deprecated. Please use tf.compat.v1.executing_eagerly_outside_functions instead.\n",
      "\n",
      "WARNING:tensorflow:From C:\\Users\\brahim\\anaconda3\\Lib\\site-packages\\keras\\src\\layers\\pooling\\max_pooling2d.py:161: The name tf.nn.max_pool is deprecated. Please use tf.nn.max_pool2d instead.\n",
      "\n"
     ]
    }
   ],
   "source": [
    "from tensorflow.keras.models import load_model\n",
    "\n",
    "# Charger le tokenizer\n",
    "with open('tokenizer.pickle', 'rb') as handle:\n",
    "    loaded_tokenizer = pickle.load(handle)\n",
    "\n",
    "# Charger le modèle sans réentraîner\n",
    "loaded_model = load_model('sentiment_analysis_model.h5')\n",
    "\n",
    "\n",
    "# Charger le modèle sans réentraîner\n",
    "model = keras.models.load_model('happysadModel.h5')"
   ]
  },
  {
   "cell_type": "code",
   "execution_count": 7,
   "id": "2582054a-9e84-45a9-a3e5-4a8800cef5dd",
   "metadata": {},
   "outputs": [
    {
     "name": "stdout",
     "output_type": "stream",
     "text": [
      "1/1 [==============================] - 2s 2s/step\n",
      "1/1 [==============================] - 0s 58ms/step\n",
      "1/1 [==============================] - 0s 46ms/step\n",
      "1/1 [==============================] - 0s 148ms/step\n",
      "1/1 [==============================] - 0s 109ms/step\n"
     ]
    }
   ],
   "source": [
    "from tkinter import Tk, Button, Toplevel, Label, filedialog, StringVar, CENTER, Entry\n",
    "from PIL import Image, ImageTk\n",
    "import numpy as np\n",
    "from keras.preprocessing.sequence import pad_sequences\n",
    "\n",
    "\n",
    "def preprocess_image(image):\n",
    "    \n",
    "    image = image.resize((256, 256))\n",
    "    image_array = np.array(image)\n",
    "    image_array = image_array / 255.0\n",
    "    image_array = np.expand_dims(image_array, axis=0)\n",
    "    return image_array\n",
    "\n",
    "\n",
    "def predict(image):\n",
    "    image_array = preprocess_image(image)\n",
    "    prediction = model.predict(image_array)\n",
    "    return prediction\n",
    "\n",
    "class InputApplication(Tk):\n",
    "    def __init__(self):\n",
    "        super().__init__()\n",
    "        self.title(\"\")\n",
    "        self.geometry(\"500x450\") \n",
    "\n",
    "        self.input_type = StringVar()\n",
    "\n",
    "        self.create_widgets()\n",
    "\n",
    "    def create_widgets(self):\n",
    "        self.bg_image = Image.open(\"baac.png\")\n",
    "        self.bg_photo = ImageTk.PhotoImage(self.bg_image)\n",
    "        self.bg_label = Label(self, image=self.bg_photo)\n",
    "        self.bg_label.place(relx=0, rely=0, relwidth=1, relheight=1)\n",
    "\n",
    "        self.bind(\"<Configure>\", self.on_resize)\n",
    "\n",
    "        text_button = Button(self, text=\"Text\", command=self.get_text_input, bg=\"#66c2ff\", fg=\"white\", padx=13, pady=8, font=('Helvetica', 12, 'bold'), relief=\"flat\")\n",
    "        text_button.place(relx=0.5, rely=0.4, anchor=CENTER, relwidth=0.6)\n",
    "\n",
    "        image_button = Button(self, text=\"Image\", command=self.select_image, bg=\"#66c2ff\", fg=\"white\", padx=13, pady=8, font=('Helvetica', 12, 'bold'), relief=\"flat\")\n",
    "        image_button.place(relx=0.5, rely=0.6, anchor=CENTER, relwidth=0.6)\n",
    "\n",
    "    def on_resize(self, event):\n",
    "        self.bg_image_resized = self.bg_image.resize((event.width, event.height))\n",
    "        self.bg_photo_resized = ImageTk.PhotoImage(self.bg_image_resized)\n",
    "        self.bg_label.configure(image=self.bg_photo_resized)\n",
    "        self.bg_label.image = self.bg_photo_resized \n",
    "\n",
    "    def get_text_input(self):\n",
    "        text_window = Toplevel(self)\n",
    "        self.withdraw()  \n",
    "        text_window.title(\"Text Input\")\n",
    "        text_window.geometry(\"500x450\") \n",
    "        self.text_bg_photo = ImageTk.PhotoImage(self.bg_image_resized)\n",
    "        self.text_bg_label = Label(text_window, image=self.text_bg_photo)\n",
    "        self.text_bg_label.place(relx=0, rely=0, relwidth=1, relheight=1)\n",
    "\n",
    "        text_window.bind(\"<Configure>\", self.on_resize_text_window)\n",
    "\n",
    "        title_label = Label(text_window, text=\"Enter Text\", font=('Helvetica', 18, 'bold'), bg=None, highlightthickness=0)\n",
    "        title_label.place(relx=0.5, rely=0.1, anchor=CENTER)\n",
    "\n",
    "        entry = Entry(text_window, font=('Helvetica', 24), bg=None, relief=\"flat\", highlightthickness=0, bd=0)\n",
    "        entry.place(relx=0.5, rely=0.4, anchor=CENTER, relwidth=0.6)\n",
    "        entry.config(highlightbackground=\"#f5f5f5\", highlightcolor=\"#f5f5f5\")\n",
    "\n",
    "        def submit_text():\n",
    "            entered_text = entry.get()\n",
    "            sequence = loaded_tokenizer.texts_to_sequences([entered_text])\n",
    "            padded_sequence = pad_sequences(sequence, maxlen=150)\n",
    "            prediction = loaded_model.predict(padded_sequence)[0][0]\n",
    "            sentiment = \"positive 😄\" if prediction > 0.5 else \"negative 😔\"\n",
    "            result_label.config(text=f\"Your sentiment is: {sentiment}\")\n",
    "\n",
    "        submit_button = Button(text_window, text=\"Submit\", command=submit_text, bg=\"#66c2ff\", fg=\"white\", padx=15, pady=8, font=('Helvetica', 12, 'bold'), relief=\"flat\")\n",
    "        submit_button.place(relx=0.5, rely=0.6, anchor=CENTER)\n",
    "\n",
    "        result_label = Label(text_window, text=\"\", font=('Helvetica', 23), bg=None, bd=0, highlightthickness=0)\n",
    "        result_label.place(relx=0.5, rely=0.7, anchor=CENTER)\n",
    "\n",
    "        def on_close():\n",
    "            self.deiconify() \n",
    "            text_window.destroy()\n",
    "\n",
    "        text_window.protocol(\"WM_DELETE_WINDOW\", on_close)\n",
    "\n",
    "    def on_resize_text_window(self, event):\n",
    "        self.text_bg_photo_resized = ImageTk.PhotoImage(self.bg_image_resized.resize((event.width, event.height)))\n",
    "        self.text_bg_label.configure(image=self.text_bg_photo_resized)\n",
    "        self.text_bg_label.image = self.text_bg_photo_resized\n",
    "\n",
    "    def select_image(self):\n",
    "        image_path = filedialog.askopenfilename(title=\"Select Image\", filetypes=((\"Image files\", \"*.jpg;*.jpeg;*.png\"), (\"All files\", \"*.*\")))\n",
    "        if image_path:\n",
    "            image_window = Toplevel(self)\n",
    "            self.withdraw()  \n",
    "            image_window.title(\"Happy or Sad Image Classifier\")\n",
    "            image_window.geometry(\"400x400\")\n",
    "\n",
    "            image = Image.open(image_path)\n",
    "\n",
    "            image = image.resize((300, 300))\n",
    "\n",
    "            img = ImageTk.PhotoImage(image)\n",
    "            label = Label(image_window, image=img, bg=\"#ffffff\")\n",
    "            label.image = img\n",
    "            label.pack(pady=10)\n",
    "\n",
    "            prediction = predict(image)\n",
    "            sentiment = \"Positive 😄\" if prediction < 0.5 else \"Negative 😔\"\n",
    "\n",
    "            sentiment_label = Label(image_window, text=f\"Your sentiment is: {sentiment}\", font=('Helvetica', 18, 'bold'), bg=None, bd=0, highlightthickness=0)\n",
    "            sentiment_label.pack(pady=10)\n",
    "\n",
    "            def on_close():\n",
    "                self.deiconify()  \n",
    "                image_window.destroy()\n",
    "\n",
    "            image_window.protocol(\"WM_DELETE_WINDOW\", on_close)\n",
    "\n",
    "if __name__ == \"__main__\":\n",
    "    app = InputApplication()\n",
    "    app.mainloop()\n"
   ]
  },
  {
   "cell_type": "code",
   "execution_count": null,
   "id": "bf8e9253-ecfc-44c1-9f6d-db51d0cbc619",
   "metadata": {},
   "outputs": [],
   "source": []
  },
  {
   "cell_type": "code",
   "execution_count": null,
   "id": "dc799211-ccee-4c81-a95f-1f427d4fd11b",
   "metadata": {},
   "outputs": [],
   "source": []
  }
 ],
 "metadata": {
  "kernelspec": {
   "display_name": "Python 3 (ipykernel)",
   "language": "python",
   "name": "python3"
  },
  "language_info": {
   "codemirror_mode": {
    "name": "ipython",
    "version": 3
   },
   "file_extension": ".py",
   "mimetype": "text/x-python",
   "name": "python",
   "nbconvert_exporter": "python",
   "pygments_lexer": "ipython3",
   "version": "3.11.5"
  }
 },
 "nbformat": 4,
 "nbformat_minor": 5
}
